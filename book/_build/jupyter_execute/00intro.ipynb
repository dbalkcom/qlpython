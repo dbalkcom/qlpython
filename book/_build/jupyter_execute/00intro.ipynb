{
 "cells": [
  {
   "cell_type": "markdown",
   "id": "4e80a11b",
   "metadata": {},
   "source": [
    "# A beginner's guide to coding\n",
    "\n",
    "## What you'll need\n",
    "You'll need a way to edit and run Python files. I use the `VScode` editor and the `miniconda` Python distribution, both of which are available on Mac, Windows, and Linux. You'll also need the `pygame` library installed with Python. \n",
    "\n",
    "A teacher or experienced friend can help you get these set up, or you can get plenty of help online. For example, you can ask a chatbot like ChatGPT or Gemini something like: \"I'm running Windows. How should I install VScode and miniconda with pygame in the base environment?\""
   ]
  }
 ],
 "metadata": {
  "jupytext": {
   "cell_metadata_filter": "-all",
   "formats": "md:myst",
   "text_representation": {
    "extension": ".md",
    "format_name": "myst",
    "format_version": 0.13,
    "jupytext_version": "1.16.4"
   }
  },
  "kernelspec": {
   "display_name": "Python 3 (ipykernel)",
   "language": "python",
   "name": "python3"
  },
  "language_info": {
   "codemirror_mode": {
    "name": "ipython",
    "version": 3
   },
   "file_extension": ".py",
   "mimetype": "text/x-python",
   "name": "python",
   "nbconvert_exporter": "python",
   "pygments_lexer": "ipython3",
   "version": "3.12.7"
  },
  "source_map": [
   14
  ]
 },
 "nbformat": 4,
 "nbformat_minor": 5
}