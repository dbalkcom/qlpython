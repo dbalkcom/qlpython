{
 "cells": [
  {
   "cell_type": "markdown",
   "id": "f2dd13bf",
   "metadata": {},
   "source": [
    "# Computing with Python\n",
    "\n",
    "Doing mathematical computations with Python, and storing the results.\n",
    "\n",
    "\n",
    "\n",
    "## Expressions\n",
    "You can use Python to compute. Anywhere a value is needed, you can use an *expression* that first computes the value. Like this:"
   ]
  },
  {
   "cell_type": "code",
   "execution_count": 1,
   "id": "b788d7ed",
   "metadata": {
    "tags": [
     "hide-output"
    ]
   },
   "outputs": [
    {
     "name": "stdout",
     "output_type": "stream",
     "text": [
      "42\n",
      "43\n"
     ]
    }
   ],
   "source": [
    "print(42)\n",
    "print(19 + 24)"
   ]
  },
  {
   "cell_type": "markdown",
   "id": "c01735bc",
   "metadata": {},
   "source": [
    "Click *show code cell output* to see the result. `19 + 23` is an expression. Python computes the value of the expression, 43, and then uses that value 43 as the parameter to the `print` function cacll.\n",
    "\n",
    "The plus sign `+` is called an *operator*. You can also multiply, divide, or subtract:"
   ]
  },
  {
   "cell_type": "code",
   "execution_count": 2,
   "id": "27a6223a",
   "metadata": {
    "tags": [
     "hide-output"
    ]
   },
   "outputs": [
    {
     "name": "stdout",
     "output_type": "stream",
     "text": [
      "12.0\n"
     ]
    }
   ],
   "source": [
    "print(9 * 2 - 24/4)"
   ]
  },
  {
   "cell_type": "markdown",
   "id": "224b37f4",
   "metadata": {},
   "source": [
    "The operator `*` multiplies, `-` subtracts, and `/` divides. Sometimes division will give you a decimal number, which we call a *floating point*. \n",
    "\n",
    "## Exercise: rectangle area\n",
    "\n",
    "**Learning objective:** Write a program that computes something.\n",
    "\n",
    "\n",
    "\n",
    "\n",
    "## Variables\n",
    "\n",
    "## Importing functions from the math library"
   ]
  },
  {
   "cell_type": "code",
   "execution_count": null,
   "id": "e36fcb3d",
   "metadata": {
    "tags": [
     "hide-output"
    ]
   },
   "outputs": [],
   "source": []
  }
 ],
 "metadata": {
  "jupytext": {
   "cell_metadata_filter": "-all",
   "formats": "md:myst",
   "text_representation": {
    "extension": ".md",
    "format_name": "myst",
    "format_version": 0.13,
    "jupytext_version": "1.16.4"
   }
  },
  "kernelspec": {
   "display_name": "Python 3 (ipykernel)",
   "language": "python",
   "name": "python3"
  },
  "language_info": {
   "codemirror_mode": {
    "name": "ipython",
    "version": 3
   },
   "file_extension": ".py",
   "mimetype": "text/x-python",
   "name": "python",
   "nbconvert_exporter": "python",
   "pygments_lexer": "ipython3",
   "version": "3.12.7"
  },
  "source_map": [
   14,
   26,
   30,
   36,
   39,
   54
  ]
 },
 "nbformat": 4,
 "nbformat_minor": 5
}