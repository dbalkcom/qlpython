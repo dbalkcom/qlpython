{
 "cells": [
  {
   "cell_type": "markdown",
   "id": "48c6aea4",
   "metadata": {},
   "source": [
    "# Printing and drawing\n",
    "\n",
    "In this lesson you will write code to print things on the screen and draw pretty pictures. This will give you the basics of Python: \n",
    "\n",
    "* running Python commands, called *functions*; \n",
    "* writing your own functions;\n",
    "* using functions from libraries someone else wrote.\n",
    "\n",
    "Let's get started. A computer program is made up of instructions that a computer follows. Here is a simple program:"
   ]
  },
  {
   "cell_type": "code",
   "execution_count": 1,
   "id": "45f56ac9",
   "metadata": {
    "tags": [
     "hide-output"
    ]
   },
   "outputs": [
    {
     "name": "stdout",
     "output_type": "stream",
     "text": [
      "42\n",
      "Hello\n"
     ]
    }
   ],
   "source": [
    "# A short program to print a few values\n",
    "\n",
    "print(42)\n",
    "print(\"Hello\")"
   ]
  },
  {
   "cell_type": "markdown",
   "id": "8e907824",
   "metadata": {},
   "source": [
    "This program causes the computer to print the number 42 in the console window, and then to print the word \"Hello\". Click on \"show code cell output\" below the code to see the output. \n",
    "\n",
    "The lines of code are run, or *executed*, in the order they appear. \n",
    "\n",
    "The first line, `# A short program to print a few values`, is called a comment. Python ignores comments; they are just for us humans. Any line of code starting with the hashtag `#` is a comment.\n",
    "\n",
    "The word `print` is a Python command, called a *function call*. All function calls look the same: the name of the function followed by parentheses, like `print()`. \n",
    "\n",
    "## Parameters\n",
    "\n",
    "Sometimes there will be values inside the parentheses, like `42` or `\"Hello\"`. This data gives the function call additional information it needs to do its work. We call the values inside the parentheses the *parameters* to the function call. So `print(42)` has one parameter, `42`.\n",
    "\n",
    "Each parameter has a type. The parameter `42` is an *integer*, or whole number. We can do things like multiply integers, although we won't do it yet.\n",
    "\n",
    "The parameter `\"Hello\"` is a *string*, or sequence of letters and numbers. Notice that the quotes around `\"Hello\"` aren't printed. They just tell Python that `\"Hello\"` is a string. We can't multiply strings, but we might be able to do other things with them.  \n",
    "\n",
    "## Exercise: Inigo Montoya\n",
    "\n",
    "**Learning objective:** Run and edit Python code.\n",
    "\n",
    "Copy the next program into your Python editor. Run the code in the editor to see the output."
   ]
  },
  {
   "cell_type": "code",
   "execution_count": 2,
   "id": "f2852ae5",
   "metadata": {
    "tags": [
     "hide-output"
    ]
   },
   "outputs": [
    {
     "name": "stdout",
     "output_type": "stream",
     "text": [
      "Hello\n",
      "my\n",
      "name\n",
      "is\n",
      "Inigo\n",
      "Montoya\n"
     ]
    }
   ],
   "source": [
    "# A program to output a short greeting\n",
    "\n",
    "print(\"Hello\")\n",
    "print(\"my\")\n",
    "print(\"name\")\n",
    "print(\"is\")\n",
    "print(\"Inigo\")\n",
    "print(\"Montoya\")"
   ]
  },
  {
   "cell_type": "markdown",
   "id": "569266e0",
   "metadata": {},
   "source": [
    "Now use your editor to change the program to print out your name instead of Inigo Montoya's. Run it again to test it.\n",
    "\n",
    "## Drawing with Pygame\n",
    "\n",
    "Pygame is a library, or *module*, of Python functions that can be used to draw things on the screen.\n",
    "\n",
    "Here is a little piece of code to draw two circles. To make it run, you'll need to download two files and put them together in the same directory: [circles.py](src/circles.py) and [simplegraphics.py](src/simplegraphics.py). Then run `circles.py`.  \n",
    "\n",
    "```{literalinclude} src/circles.py\n",
    "```\n",
    "\n",
    "First let's look at the two function calls to the function named `circle`. The first one, `circle(Color('blue'), 125, 100, 50)` draws a blue circle centered at a location 125 pixels across from the left of the window, and 100 pixels down from the top of the window. The circle has a radius of 50 pixels.\n",
    "\n",
    "The `circle` function call needs four parameters. How do I know? I wrote the `circle` function myself. The first parameter, `Color('blue')` is a little bit magical; we'll look at it later. The next three paramters, `125`, `100`, and `50` are integers, or whole numbers.\n",
    "\n",
    "\n",
    "<!--\n",
    "```{code-cell}\n",
    ":tags: [remove-input]\n",
    "exec(open(\"src/circles_mpl.py\").read())\n",
    "```\n",
    "-->\n",
    "\n",
    "## Using external functions: from...import\n",
    "\n",
    "The `print` function we used earlier is built in to Python. The `circle` function is not: I wrote it myself, in the `simplegraphics.py` file. In order to use a function from a different file, you can use the `from X import Y` command, where `X` is the name of the file and `Y` is the name of the function. Like this:  \n",
    "\n",
    "~~~{code-block}\n",
    "from pygame import Color\n",
    "from simplegraphics import init_graphics, circle, draw_and_wait_for_exit\n",
    "~~~ \n",
    "\n",
    "This code imports `Color` from the `pygame` module, and imports some other functions from the `simplegraphics.py` file. We leave the `.py` extension off when we use `from X import Y` command.\n",
    "\n",
    "The `init_graphics` function opens up a window on the screen for drawing. It takes two parameters: the width and height of the window you want to open. \n",
    "\n",
    "The drawing function `circle` doesn't really draw to the window; `circle` draws to something Pygame calls a screen. So the function `draw_and_wait_for_exit` copies the picture on the screen into the window, and waits for the user to click the button that closes the window.\n",
    "\n",
    "## Exercise: bullseye\n",
    "\n",
    "```{image} img/bullseye.png\n",
    ":alt: Bullseye output\n",
    ":width: 150px\n",
    ":align: right\n",
    "```\n",
    "\n",
    "**Learning objective.** Use `circle()` function calls to make a drawing.\n",
    "\n",
    "Copy the complete code for drawing two circles above into a new Python file. Edit the code to draw an archery bullseye like the one on the right.\n",
    "\n",
    "*Hint:* My solution drew four circles centered at the center of the 400x400 pixel screen: one yellow, one red, one blue, and one black. Each circle had a different radius. The order that the circles is drawn matters, since circles drawn later cover up circles drawn first. \n",
    "\n",
    "## Writing your own functions\n",
    "\n",
    "We can write our own commands in Python. A *function* in Python is like a little named program within your program. Here's an example that defines two different functions: `say_hello` and `why_goodbye`."
   ]
  },
  {
   "cell_type": "code",
   "execution_count": 3,
   "id": "8a4bb35d",
   "metadata": {},
   "outputs": [],
   "source": [
    "def say_hello():\n",
    "    print(\"I say\")\n",
    "    print(\"hello.\")\n",
    "\n",
    "def why_goodbye():\n",
    "    print(\"I don't know why you say goodbye.\")"
   ]
  },
  {
   "cell_type": "markdown",
   "id": "55c80085",
   "metadata": {},
   "source": [
    "Check the output of the program above. You will see that there isn't any. The code defined two functions, but it didn't actually run the functions. \n",
    "\n",
    "Function definitions have two parts: a header, and a body. The header gives the name of the function you want to define (as well as some other things we’ll see later). The body is a set of lines of code that tell what the function does. Each line of the body must be indented by pressing the tab key. The indentations tell Python where the function body begins and ends.\n",
    "\n",
    "The header uses the keyword def (short for define), the name of the function you’d like to define, parentheses after the name of the function, and a colon. So the header for the first function is:\n",
    "\n",
    "```{code-block}\n",
    "def say_hello():\n",
    "```\n",
    "\n",
    "The body of the first function is\n",
    "```{code-block}\n",
    "  print(\"I say\")\n",
    "  print(\"hello.\")\n",
    "```\n",
    "\n",
    "\n",
    "## Exercise: I don't know why you say goodbye\n",
    "\n",
    "**Learning objective**: Call functions that have been defined.\n",
    "\n",
    "Copy the code for the function definitions for `say_hello` and `why_goodbye` into a new Python file in your editor. Add function calls to those function after the definitions so that program prints the following when run. (The answer is hidden under \"show code cell source\"; no peeking until you've tried it yourself.)"
   ]
  },
  {
   "cell_type": "code",
   "execution_count": 4,
   "id": "f7e87fc4",
   "metadata": {
    "tags": [
     "hide-input"
    ]
   },
   "outputs": [
    {
     "name": "stdout",
     "output_type": "stream",
     "text": [
      "I say\n",
      "hello.\n",
      "I don't know why you say goodbye.\n",
      "I say\n",
      "hello.\n"
     ]
    }
   ],
   "source": [
    "def say_hello():\n",
    "    print(\"I say\")\n",
    "    print(\"hello.\")\n",
    "\n",
    "def why_goodbye():\n",
    "    print(\"I don't know why you say goodbye.\")\n",
    "\n",
    "say_hello()\n",
    "why_goodbye()\n",
    "say_hello()"
   ]
  },
  {
   "cell_type": "markdown",
   "id": "0fac66c7",
   "metadata": {},
   "source": [
    "## Exercise: reading code\n",
    "\n",
    "**Learning objective.** Read through some code to figure out how to use functions from that code.\n",
    "\n",
    "```{image} img/simple_shapes.png\n",
    ":alt: Simple shapes\n",
    ":width: 150px\n",
    ":align: right\n",
    "```\n",
    "\n",
    "The picture on the right shows some example shapes that `simplegraphics.py` can draw. Here is the code that drew the shapes:\n",
    "\n",
    "```{literalinclude} src/simplegraphics_examples.py\n",
    "```\n",
    "\n",
    "Open up `simplegraphics.py` and read the body of the `test_draw` function and look at the function headers for the functions `rectangle`, `ellipse`, `triangle` and `line`. Try to figure out what you might need to type to use these functions. Since this is a reading exercise, you don't have to type anything.\n",
    "\n",
    "## Project: book cover\n",
    "\n",
    "**Learning objective.** Use a variety of drawing commands to draw an interesting picture.\n",
    "\n",
    "Childrens board books often have colorful, simple covers. See the covers for\n",
    "[Goodnight Moon](https://upload.wikimedia.org/wikipedia/en/5/51/Goodnightmoon.jpg) and [The Very Hungry Caterpillar](https://upload.wikimedia.org/wikipedia/en/b/b5/HungryCaterpillar.JPG).\n",
    "\n",
    "Create a new file with the name `bookcover.py` in the same directory as `simplegraphics.py`. Your job is to write complete code in `bookcover.py` to draw a picture, using function calls to `circle`, `rectangle`, `triangle`, and `ellipse`. You can create your own artwork from scratch, or use one of the book covers for inspiration.\n",
    "\n",
    "Some other ideas are: light rays passing through a prism; a snowman in a cozy scene with evergreen trees; a child holding a bunch of balloons.\n",
    "\n",
    "**Hints:** Simplify the problem. Set a simple objective, like drawing a single circle on the screen.\n",
    "\n",
    "1) Start with the imports. You'll need functions like `init_graphics` and `draw_and_wait_for_exit`, as well as at least one of the shapes, like `circle`, so import those things. \n",
    "\n",
    "2) Then use `init_graphics`, a call to `circle`, and `draw_and_wait_for_exit()`. Run the code. If it works, add more drawing commands, importing the different types of shapes at the top of the code as needed.\n",
    "\n",
    "3) Run the code frequently. If at any point, the code doesn't run, compare it carefully to the `circles.py` code we looked at earlier."
   ]
  }
 ],
 "metadata": {
  "jupytext": {
   "cell_metadata_filter": "-all",
   "formats": "md:myst",
   "text_representation": {
    "extension": ".md",
    "format_name": "myst",
    "format_version": 0.13,
    "jupytext_version": "1.16.4"
   }
  },
  "kernelspec": {
   "display_name": "Python 3 (ipykernel)",
   "language": "python",
   "name": "python3"
  },
  "language_info": {
   "codemirror_mode": {
    "name": "ipython",
    "version": 3
   },
   "file_extension": ".py",
   "mimetype": "text/x-python",
   "name": "python",
   "nbconvert_exporter": "python",
   "pygments_lexer": "ipython3",
   "version": "3.12.7"
  },
  "source_map": [
   14,
   27,
   34,
   58,
   68,
   126,
   133,
   159,
   171
  ]
 },
 "nbformat": 4,
 "nbformat_minor": 5
}